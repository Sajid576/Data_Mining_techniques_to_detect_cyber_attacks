{
  "nbformat": 4,
  "nbformat_minor": 0,
  "metadata": {
    "colab": {
      "name": "NoSql Feature Extraction.ipynb",
      "provenance": [],
      "collapsed_sections": [],
      "toc_visible": true
    },
    "kernelspec": {
      "name": "python3",
      "display_name": "Python 3"
    },
    "language_info": {
      "name": "python"
    }
  },
  "cells": [
    {
      "cell_type": "code",
      "metadata": {
        "id": "u6mKqI8QJrJU"
      },
      "source": [
        "import pandas as pd"
      ],
      "execution_count": 3,
      "outputs": []
    },
    {
      "cell_type": "code",
      "metadata": {
        "colab": {
          "base_uri": "https://localhost:8080/",
          "height": 202
        },
        "id": "-RQWdo_ZsIqM",
        "outputId": "abc29968-8652-4890-e4f0-ea5ef50d0250"
      },
      "source": [
        "sheet_url='https://docs.google.com/spreadsheets/d/1SdVtOQykaROvx9n9tezpGg2BXL2zixJL/edit#gid=109307861'\n",
        "csv_export_url = sheet_url.replace('/edit#gid=', '/export?format=csv&gid=')\n",
        " \n",
        "df = pd.read_csv(csv_export_url, header=None)\n",
        "df.head()"
      ],
      "execution_count": 4,
      "outputs": [
        {
          "output_type": "execute_result",
          "data": {
            "text/html": [
              "<div>\n",
              "<style scoped>\n",
              "    .dataframe tbody tr th:only-of-type {\n",
              "        vertical-align: middle;\n",
              "    }\n",
              "\n",
              "    .dataframe tbody tr th {\n",
              "        vertical-align: top;\n",
              "    }\n",
              "\n",
              "    .dataframe thead th {\n",
              "        text-align: right;\n",
              "    }\n",
              "</style>\n",
              "<table border=\"1\" class=\"dataframe\">\n",
              "  <thead>\n",
              "    <tr style=\"text-align: right;\">\n",
              "      <th></th>\n",
              "      <th>0</th>\n",
              "    </tr>\n",
              "  </thead>\n",
              "  <tbody>\n",
              "    <tr>\n",
              "      <th>0</th>\n",
              "      <td>db.mycol.find({$and:[{\"by\":\"tutorials point\"},...</td>\n",
              "    </tr>\n",
              "    <tr>\n",
              "      <th>1</th>\n",
              "      <td>db.Document.find({ \"type\": { \"$gte\": \"\" } })::::1</td>\n",
              "    </tr>\n",
              "    <tr>\n",
              "      <th>2</th>\n",
              "      <td>db.books.insert({ title: 'The Hobbit', author:...</td>\n",
              "    </tr>\n",
              "    <tr>\n",
              "      <th>3</th>\n",
              "      <td>db.books.find({ title: 'The Hobbit' })::::0</td>\n",
              "    </tr>\n",
              "    <tr>\n",
              "      <th>4</th>\n",
              "      <td>db.logins.find({ username: 'tolkien', password...</td>\n",
              "    </tr>\n",
              "  </tbody>\n",
              "</table>\n",
              "</div>"
            ],
            "text/plain": [
              "                                                   0\n",
              "0  db.mycol.find({$and:[{\"by\":\"tutorials point\"},...\n",
              "1  db.Document.find({ \"type\": { \"$gte\": \"\" } })::::1\n",
              "2  db.books.insert({ title: 'The Hobbit', author:...\n",
              "3        db.books.find({ title: 'The Hobbit' })::::0\n",
              "4  db.logins.find({ username: 'tolkien', password..."
            ]
          },
          "metadata": {
            "tags": []
          },
          "execution_count": 4
        }
      ]
    },
    {
      "cell_type": "code",
      "metadata": {
        "colab": {
          "base_uri": "https://localhost:8080/",
          "height": 202
        },
        "id": "k79hgf7nNMXr",
        "outputId": "10fdef2d-33b6-4df5-bfa7-6451a6bd0820"
      },
      "source": [
        "sheet_url='https://docs.google.com/spreadsheets/d/1Y8k582i3d05SfLFJmaSzKLO2T18NfGp8Exm4qG2UR9g/edit#gid=1029040470'\n",
        "csv_export_url = sheet_url.replace('/edit#gid=', '/export?format=csv&gid=')\n",
        " \n",
        "df2 = pd.read_csv(csv_export_url)\n",
        "df2.head()"
      ],
      "execution_count": 5,
      "outputs": [
        {
          "output_type": "execute_result",
          "data": {
            "text/html": [
              "<div>\n",
              "<style scoped>\n",
              "    .dataframe tbody tr th:only-of-type {\n",
              "        vertical-align: middle;\n",
              "    }\n",
              "\n",
              "    .dataframe tbody tr th {\n",
              "        vertical-align: top;\n",
              "    }\n",
              "\n",
              "    .dataframe thead th {\n",
              "        text-align: right;\n",
              "    }\n",
              "</style>\n",
              "<table border=\"1\" class=\"dataframe\">\n",
              "  <thead>\n",
              "    <tr style=\"text-align: right;\">\n",
              "      <th></th>\n",
              "      <th>Feature0</th>\n",
              "      <th>Feature1</th>\n",
              "      <th>Feature2</th>\n",
              "      <th>Feature3</th>\n",
              "      <th>Feature4</th>\n",
              "      <th>Feature5</th>\n",
              "      <th>Feature6</th>\n",
              "      <th>Feature7</th>\n",
              "      <th>Feature8</th>\n",
              "      <th>Feature9</th>\n",
              "      <th>ClassLabel</th>\n",
              "    </tr>\n",
              "  </thead>\n",
              "  <tbody>\n",
              "    <tr>\n",
              "      <th>0</th>\n",
              "      <td>0</td>\n",
              "      <td>0</td>\n",
              "      <td>0</td>\n",
              "      <td>1</td>\n",
              "      <td>1</td>\n",
              "      <td>0</td>\n",
              "      <td>0</td>\n",
              "      <td>0</td>\n",
              "      <td>0</td>\n",
              "      <td>0</td>\n",
              "      <td>0</td>\n",
              "    </tr>\n",
              "    <tr>\n",
              "      <th>1</th>\n",
              "      <td>1</td>\n",
              "      <td>1</td>\n",
              "      <td>0</td>\n",
              "      <td>1</td>\n",
              "      <td>0</td>\n",
              "      <td>0</td>\n",
              "      <td>0</td>\n",
              "      <td>0</td>\n",
              "      <td>0</td>\n",
              "      <td>0</td>\n",
              "      <td>1</td>\n",
              "    </tr>\n",
              "    <tr>\n",
              "      <th>2</th>\n",
              "      <td>0</td>\n",
              "      <td>0</td>\n",
              "      <td>0</td>\n",
              "      <td>0</td>\n",
              "      <td>0</td>\n",
              "      <td>0</td>\n",
              "      <td>0</td>\n",
              "      <td>0</td>\n",
              "      <td>0</td>\n",
              "      <td>0</td>\n",
              "      <td>0</td>\n",
              "    </tr>\n",
              "    <tr>\n",
              "      <th>3</th>\n",
              "      <td>0</td>\n",
              "      <td>0</td>\n",
              "      <td>0</td>\n",
              "      <td>1</td>\n",
              "      <td>0</td>\n",
              "      <td>0</td>\n",
              "      <td>0</td>\n",
              "      <td>0</td>\n",
              "      <td>0</td>\n",
              "      <td>0</td>\n",
              "      <td>0</td>\n",
              "    </tr>\n",
              "    <tr>\n",
              "      <th>4</th>\n",
              "      <td>0</td>\n",
              "      <td>0</td>\n",
              "      <td>0</td>\n",
              "      <td>1</td>\n",
              "      <td>0</td>\n",
              "      <td>0</td>\n",
              "      <td>0</td>\n",
              "      <td>0</td>\n",
              "      <td>0</td>\n",
              "      <td>0</td>\n",
              "      <td>0</td>\n",
              "    </tr>\n",
              "  </tbody>\n",
              "</table>\n",
              "</div>"
            ],
            "text/plain": [
              "   Feature0  Feature1  Feature2  ...  Feature8  Feature9  ClassLabel\n",
              "0         0         0         0  ...         0         0           0\n",
              "1         1         1         0  ...         0         0           1\n",
              "2         0         0         0  ...         0         0           0\n",
              "3         0         0         0  ...         0         0           0\n",
              "4         0         0         0  ...         0         0           0\n",
              "\n",
              "[5 rows x 11 columns]"
            ]
          },
          "metadata": {
            "tags": []
          },
          "execution_count": 5
        }
      ]
    },
    {
      "cell_type": "markdown",
      "metadata": {
        "id": "sX51CwETWc5J"
      },
      "source": [
        "**Feature Extraction**"
      ]
    },
    {
      "cell_type": "code",
      "metadata": {
        "id": "wJ54QBlAQca9"
      },
      "source": [
        "# Detect if query has $ne\n",
        "\n",
        "def containsNotEqual(query):\n",
        "  if \"$ne\" in query:\n",
        "    return 1\n",
        "  else:\n",
        "    return 0"
      ],
      "execution_count": 6,
      "outputs": []
    },
    {
      "cell_type": "code",
      "metadata": {
        "id": "1y0-ieamaS9T"
      },
      "source": [
        "# Detect if query alters the table\n",
        "\n",
        "def doesCreateTable(query):\n",
        "  if \"createTable()\" in query:\n",
        "    return 1\n",
        "  else:\n",
        "    return 0\n",
        "\n",
        "def doesShowTable(query):\n",
        "  if \"showTable()\" in query:\n",
        "    return 1\n",
        "  else:\n",
        "    return 0\n",
        "\n",
        "def doesDropDatabase(query):\n",
        "  if \"dropDatabase(\" in query:\n",
        "    return 1\n",
        "  else:\n",
        "    return 0        "
      ],
      "execution_count": 14,
      "outputs": []
    },
    {
      "cell_type": "code",
      "metadata": {
        "id": "yOGk8qXZnPsP"
      },
      "source": [
        "# Detect if query has operations\n",
        "\n",
        "def containsReturn(query):\n",
        "  if \";return\" in query or \"return 1\" in query or \"return true\" in query or \"return(true)\" in query:\n",
        "    return 1\n",
        "  else:\n",
        "    return 0\n",
        "\n",
        "def isUpdateQuery(query):\n",
        "  if \"update(\" in query or \"save(\" in query:\n",
        "    return 1\n",
        "  else:\n",
        "    return 0\n",
        "\n",
        "def isRemoveQuery(query):\n",
        "  if \"remove(\" in query:\n",
        "    return 1\n",
        "  else:\n",
        "    return 0        "
      ],
      "execution_count": 18,
      "outputs": []
    },
    {
      "cell_type": "code",
      "metadata": {
        "id": "1LjVssawof7M"
      },
      "source": [
        "# Detect if query has operations\n",
        "\n",
        "def containsEmptyArray(query):\n",
        "  if \"{}\" in query or \"[]\" in query:\n",
        "    return 1\n",
        "  else:\n",
        "    return 0\n",
        "\n",
        "def isNewQuery(query):\n",
        "  if \";db.(\" in query:\n",
        "    return 1\n",
        "  else:\n",
        "    return 0"
      ],
      "execution_count": 19,
      "outputs": []
    },
    {
      "cell_type": "markdown",
      "metadata": {
        "id": "tqT59yA9QvO2"
      },
      "source": [
        "# New Section"
      ]
    },
    {
      "cell_type": "code",
      "metadata": {
        "colab": {
          "base_uri": "https://localhost:8080/"
        },
        "id": "ZPwPGzf3QTyQ",
        "outputId": "a56077ed-99d3-42f7-eebd-f34cdcad2379"
      },
      "source": [
        "for index, row in df.head(1).iterrows():\n",
        "    #print(index, row)\n",
        "    #print(type(row))\n",
        "    print(containsNotEqual(row))\n",
        "    print(containsNotEqual(\"sdlks kjslkf $ne=1\"))"
      ],
      "execution_count": 16,
      "outputs": [
        {
          "output_type": "stream",
          "text": [
            "0\n",
            "1\n"
          ],
          "name": "stdout"
        }
      ]
    }
  ]
}