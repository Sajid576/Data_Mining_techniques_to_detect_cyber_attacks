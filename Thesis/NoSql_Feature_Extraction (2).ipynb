<<<<<<< HEAD:Thesis/NoSql_Feature_Extraction.ipynb
{"nbformat":4,"nbformat_minor":0,"metadata":{"colab":{"name":"NoSql_Feature_Extraction.ipynb","provenance":[],"collapsed_sections":[],"toc_visible":true},"kernelspec":{"name":"python3","display_name":"Python 3"},"language_info":{"name":"python"}},"cells":[{"cell_type":"code","metadata":{"id":"u6mKqI8QJrJU"},"source":["import pandas as pd\n","import string"],"execution_count":null,"outputs":[]},{"cell_type":"code","metadata":{"colab":{"base_uri":"https://localhost:8080/","height":202},"id":"-RQWdo_ZsIqM","outputId":"c37e7df6-07b2-433f-f342-5a9d91541dcf"},"source":["sheet_url='https://docs.google.com/spreadsheets/d/1SdVtOQykaROvx9n9tezpGg2BXL2zixJL/edit#gid=109307861'\n","csv_export_url = sheet_url.replace('/edit#gid=', '/export?format=csv&gid=')\n"," \n","df = pd.read_csv(csv_export_url, header=None)\n","df.head()"],"execution_count":null,"outputs":[{"output_type":"execute_result","data":{"text/html":["<div>\n","<style scoped>\n","    .dataframe tbody tr th:only-of-type {\n","        vertical-align: middle;\n","    }\n","\n","    .dataframe tbody tr th {\n","        vertical-align: top;\n","    }\n","\n","    .dataframe thead th {\n","        text-align: right;\n","    }\n","</style>\n","<table border=\"1\" class=\"dataframe\">\n","  <thead>\n","    <tr style=\"text-align: right;\">\n","      <th></th>\n","      <th>0</th>\n","    </tr>\n","  </thead>\n","  <tbody>\n","    <tr>\n","      <th>0</th>\n","      <td>db.mycol.find({$and:[{\"by\":\"tutorials point\"},...</td>\n","    </tr>\n","    <tr>\n","      <th>1</th>\n","      <td>db.Document.find({ \"type\": { \"$gte\": \"\" } })::::1</td>\n","    </tr>\n","    <tr>\n","      <th>2</th>\n","      <td>db.books.insert({ title: 'The Hobbit', author:...</td>\n","    </tr>\n","    <tr>\n","      <th>3</th>\n","      <td>db.books.find({ title: 'The Hobbit' })::::0</td>\n","    </tr>\n","    <tr>\n","      <th>4</th>\n","      <td>db.logins.find({ username: 'tolkien', password...</td>\n","    </tr>\n","  </tbody>\n","</table>\n","</div>"],"text/plain":["                                                   0\n","0  db.mycol.find({$and:[{\"by\":\"tutorials point\"},...\n","1  db.Document.find({ \"type\": { \"$gte\": \"\" } })::::1\n","2  db.books.insert({ title: 'The Hobbit', author:...\n","3        db.books.find({ title: 'The Hobbit' })::::0\n","4  db.logins.find({ username: 'tolkien', password..."]},"metadata":{"tags":[]},"execution_count":3}]},{"cell_type":"code","metadata":{"colab":{"base_uri":"https://localhost:8080/","height":202},"id":"k79hgf7nNMXr","outputId":"966096c4-b87c-4bb8-be3d-d6f0353c84b8"},"source":["sheet_url='https://docs.google.com/spreadsheets/d/1Y8k582i3d05SfLFJmaSzKLO2T18NfGp8Exm4qG2UR9g/edit#gid=1029040470'\n","csv_export_url = sheet_url.replace('/edit#gid=', '/export?format=csv&gid=')\n"," \n","df2 = pd.read_csv(csv_export_url)\n","df2.head()"],"execution_count":null,"outputs":[{"output_type":"execute_result","data":{"text/html":["<div>\n","<style scoped>\n","    .dataframe tbody tr th:only-of-type {\n","        vertical-align: middle;\n","    }\n","\n","    .dataframe tbody tr th {\n","        vertical-align: top;\n","    }\n","\n","    .dataframe thead th {\n","        text-align: right;\n","    }\n","</style>\n","<table border=\"1\" class=\"dataframe\">\n","  <thead>\n","    <tr style=\"text-align: right;\">\n","      <th></th>\n","      <th>Feature0</th>\n","      <th>Feature1</th>\n","      <th>Feature2</th>\n","      <th>Feature3</th>\n","      <th>Feature4</th>\n","      <th>Feature5</th>\n","      <th>Feature6</th>\n","      <th>Feature7</th>\n","      <th>Feature8</th>\n","      <th>Feature9</th>\n","      <th>ClassLabel</th>\n","    </tr>\n","  </thead>\n","  <tbody>\n","    <tr>\n","      <th>0</th>\n","      <td>0</td>\n","      <td>0</td>\n","      <td>0</td>\n","      <td>1</td>\n","      <td>1</td>\n","      <td>0</td>\n","      <td>0</td>\n","      <td>0</td>\n","      <td>0</td>\n","      <td>0</td>\n","      <td>0</td>\n","    </tr>\n","    <tr>\n","      <th>1</th>\n","      <td>1</td>\n","      <td>1</td>\n","      <td>0</td>\n","      <td>1</td>\n","      <td>0</td>\n","      <td>0</td>\n","      <td>0</td>\n","      <td>0</td>\n","      <td>0</td>\n","      <td>0</td>\n","      <td>1</td>\n","    </tr>\n","    <tr>\n","      <th>2</th>\n","      <td>0</td>\n","      <td>0</td>\n","      <td>0</td>\n","      <td>0</td>\n","      <td>0</td>\n","      <td>0</td>\n","      <td>0</td>\n","      <td>0</td>\n","      <td>0</td>\n","      <td>0</td>\n","      <td>0</td>\n","    </tr>\n","    <tr>\n","      <th>3</th>\n","      <td>0</td>\n","      <td>0</td>\n","      <td>0</td>\n","      <td>1</td>\n","      <td>0</td>\n","      <td>0</td>\n","      <td>0</td>\n","      <td>0</td>\n","      <td>0</td>\n","      <td>0</td>\n","      <td>0</td>\n","    </tr>\n","    <tr>\n","      <th>4</th>\n","      <td>0</td>\n","      <td>0</td>\n","      <td>0</td>\n","      <td>1</td>\n","      <td>0</td>\n","      <td>0</td>\n","      <td>0</td>\n","      <td>0</td>\n","      <td>0</td>\n","      <td>0</td>\n","      <td>0</td>\n","    </tr>\n","  </tbody>\n","</table>\n","</div>"],"text/plain":["   Feature0  Feature1  Feature2  ...  Feature8  Feature9  ClassLabel\n","0         0         0         0  ...         0         0           0\n","1         1         1         0  ...         0         0           1\n","2         0         0         0  ...         0         0           0\n","3         0         0         0  ...         0         0           0\n","4         0         0         0  ...         0         0           0\n","\n","[5 rows x 11 columns]"]},"metadata":{"tags":[]},"execution_count":4}]},{"cell_type":"code","metadata":{"colab":{"base_uri":"https://localhost:8080/","height":202},"id":"LaCix53uCgbY","outputId":"a266966f-33ad-4ce7-acea-3fb5efdd01b8"},"source":["sheet_url='https://docs.google.com/spreadsheets/d/1il54YsQNfGxLOeMvG94PyymbKZ-JeddP/edit#gid=1921110563'\n","csv_export_url = sheet_url.replace('/edit#gid=', '/export?format=csv&gid=')\n"," \n","pl = pd.read_csv(csv_export_url)\n","pl.head()"],"execution_count":null,"outputs":[{"output_type":"execute_result","data":{"text/html":["<div>\n","<style scoped>\n","    .dataframe tbody tr th:only-of-type {\n","        vertical-align: middle;\n","    }\n","\n","    .dataframe tbody tr th {\n","        vertical-align: top;\n","    }\n","\n","    .dataframe thead th {\n","        text-align: right;\n","    }\n","</style>\n","<table border=\"1\" class=\"dataframe\">\n","  <thead>\n","    <tr style=\"text-align: right;\">\n","      <th></th>\n","      <th>true, $where: '1 == 1'</th>\n","      <th>Unnamed: 1</th>\n","      <th>hjhj</th>\n","    </tr>\n","  </thead>\n","  <tbody>\n","    <tr>\n","      <th>0</th>\n","      <td>, $where: '1 == 1'</td>\n","      <td>NaN</td>\n","      <td>NaN</td>\n","    </tr>\n","    <tr>\n","      <th>1</th>\n","      <td>$where: '1 == 1'</td>\n","      <td>NaN</td>\n","      <td>NaN</td>\n","    </tr>\n","    <tr>\n","      <th>2</th>\n","      <td>, $where: '1 == 1'</td>\n","      <td>NaN</td>\n","      <td>NaN</td>\n","    </tr>\n","    <tr>\n","      <th>3</th>\n","      <td>1, $where: '1 == 1'</td>\n","      <td>NaN</td>\n","      <td>NaN</td>\n","    </tr>\n","    <tr>\n","      <th>4</th>\n","      <td>{ $ne: 1 }</td>\n","      <td>NaN</td>\n","      <td>NaN</td>\n","    </tr>\n","  </tbody>\n","</table>\n","</div>"],"text/plain":["  true, $where: '1 == 1'  Unnamed: 1  hjhj\n","0     , $where: '1 == 1'         NaN   NaN\n","1       $where: '1 == 1'         NaN   NaN\n","2     , $where: '1 == 1'         NaN   NaN\n","3    1, $where: '1 == 1'         NaN   NaN\n","4             { $ne: 1 }         NaN   NaN"]},"metadata":{"tags":[]},"execution_count":5}]},{"cell_type":"markdown","metadata":{"id":"sX51CwETWc5J"},"source":["**Feature Extraction**\n","\n"]},{"cell_type":"code","metadata":{"id":"TEby0migDFMS"},"source":["# Feature 1\n","# Detect if query has $ne\n","\n","def containsCondition(query):\n","  condition = [\"find(\", \"$selector\", \"find.sort(\"]\n","  condition2 = [\"$eq\", \"$gt\", \"$gte\" , \"$ne\", \"$lt\", \"$lte\", \"$in\", \"$nin\"]\n","  for i in condition:\n","    if i in query:\n","      return 1\n","  for i in condition2:\n","    if i in query:\n","      return 0"],"execution_count":null,"outputs":[]},{"cell_type":"code","metadata":{"id":"Z9g-B3gzJ8qq"},"source":["# Feature 2\n","# Detects piggy back query\n","\n","def isNewQuery(query):\n","  if \";db.(\" in query:\n","    return 1\n","  else:\n","    return 0"],"execution_count":null,"outputs":[]},{"cell_type":"code","metadata":{"id":"ahOdJTpkGTEK"},"source":["# Feature 3\n","# Detect if query contains empty string\n","\n","def containsEmptyString(query):\n","  if \"\\\"\\\"\" in query or \"''\" in query:\n","    return 1\n","  else:\n","    return 0"],"execution_count":null,"outputs":[]},{"cell_type":"code","metadata":{"id":"wJ54QBlAQca9"},"source":["# Feature 4\n","# Detect if query has $ne\n","\n","def containsNotEqual(query):\n","  if \"$ne\" in query:\n","    return 1\n","  else:\n","    return 0"],"execution_count":null,"outputs":[]},{"cell_type":"code","metadata":{"id":"VXUYmgyvMJWv"},"source":["# Feature 5\n","# Detect if query contains payload\n","\n","def containsPayload(tempQuery):\n","  try:\n","    for i in range(32):\n","      temp = df.loc[i].values[0]\n","      temp = temp.translate({ord(c): None for c in string.whitespace})\n","      if temp in tempQuery:\n","        return 1 \n","  except:\n","    print(\"Error\")\n","  return 0  "],"execution_count":null,"outputs":[]},{"cell_type":"code","metadata":{"id":"-jh4J8_bJHS_"},"source":["# Feature 6\n","# Detect if query contains return\n","\n","def containsReturn(query):\n","  returnlist = [\";return\", \"return 1\", \"return true\" , \"return(true)\"]\n","  for i in returnlist:\n","    if i in query:\n","      return 1\n","  return 0"],"execution_count":null,"outputs":[]},{"cell_type":"code","metadata":{"id":"08KI5R3hKmEr"},"source":["# Feature 7\n","# Detect if query is always true\n","\n","def containsRegexTrue(tempQuery):\n","  if \"/.*/\" in tempQuery or \"/./\" in tempQuery or \"/.\" in tempQuery:\n","    return 1\n","  return 0"],"execution_count":null,"outputs":[]},{"cell_type":"code","metadata":{"id":"n4rO1QmbIDSr"},"source":["# Feature 8\n","# Detect if query contains evaluation operators\n","\n","def evalQueryOperations(tempQuery):\n","  evalop = [\"$mod\", \"$regex\", \"$text\" , \"$where\"]\n","  for i in evalop:\n","    if i in tempQuery:\n","      return 1\n","  return 0"],"execution_count":null,"outputs":[]},{"cell_type":"code","metadata":{"id":"498H03fEHGWE"},"source":["# Feature 9\n","# Detect if query contains logical operators\n","\n","def containsLogicalOp(query):\n","  logop = [\"$or\", \"$and\", \"$not\" , \"$nor\"]\n","  for i in logop:\n","    if i in query:\n","      return 1\n","  return 0"],"execution_count":null,"outputs":[]},{"cell_type":"code","metadata":{"id":"ZA7VvO8tLfXi"},"source":["# Feature 10\n","# Detect if query contains element operation\n","\n","def elementQueryOperations(tempQuery):\n","  if \"$exists\" in tempQuery or \"$type\" in tempQuery:\n","    return 1\n","  return 0"],"execution_count":null,"outputs":[]},{"cell_type":"code","metadata":{"id":"1y0-ieamaS9T"},"source":["# Detect if query alters the table\n","\n","def doesCreateTable(query):\n","  if \"createTable()\" in query:\n","    return 1\n","  else:\n","    return 0\n","\n","def doesShowTable(query):\n","  if \"showTable()\" in query:\n","    return 1\n","  else:\n","    return 0\n","\n","def doesAlterCollection(query):\n","  if \"drop(\" in query:\n","    return 1\n","  else:\n","    return 0 \n","\n","def doesDropDatabase(query):\n","  if \"dropDatabase(\" in query:\n","    return 1\n","  else:\n","    return 0        "],"execution_count":null,"outputs":[]},{"cell_type":"code","metadata":{"id":"yOGk8qXZnPsP"},"source":["# Detect if query has operations\n","\n","def containsReturn(query):\n","  if \";return\" in query or \"return 1\" in query or \"return true\" in query or \"return(true)\" in query:\n","    return 1\n","  else:\n","    return 0\n","\n","def isUpdateQuery(query):\n","  if \"update(\" in query or \"save(\" in query:\n","    return 1\n","  else:\n","    return 0\n","\n","def isRemoveQuery(query):\n","  if \"remove(\" in query:\n","    return 1\n","  else:\n","    return 0     \n","\n","def containsLimit(query):\n","  if \"limit\" in query:\n","    return 1\n","  else:\n","    return 0         "],"execution_count":null,"outputs":[]},{"cell_type":"code","metadata":{"id":"1LjVssawof7M"},"source":["# Detect if query contains empty content\n","\n","def containsEmptyArray(query):\n","  if \"{}\" in query or \"[]\" in query:\n","    return 1\n","  else:\n","    return 0\n","\n","def isNullComparison(query):\n","  if \"null\" in query:\n","    return 1\n","  else:\n","    return 0"],"execution_count":null,"outputs":[]},{"cell_type":"code","metadata":{"id":"WWTAH4uHW7Xc"},"source":["# Detect query's end\n","\n","def containsEndQuery(tempQuery):\n","  if \";}//\" in tempQuery:\n","    return 1\n","  else:\n","    return 0"],"execution_count":null,"outputs":[]},{"cell_type":"code","metadata":{"id":"yYbxTZ5Km9Ha"},"source":["# Detect if query has infinite loop\n","\n","def isWhileTrue(query):\n","  if \"while(true)\" in query:\n","    return 1\n","  else:\n","    return 0"],"execution_count":null,"outputs":[]},{"cell_type":"code","metadata":{"id":"6CgrZ81vN8rW"},"source":["def containsExtremes(query):\n","  if \"zzz\" in tempQuery or \"~\" in tempQuery:\n","    return 1\n","  return  0;"],"execution_count":null,"outputs":[]},{"cell_type":"markdown","metadata":{"id":"tqT59yA9QvO2"},"source":["# New Section"]},{"cell_type":"code","metadata":{"id":"UrJhtVmgFEyt"},"source":["for i in range(1):\n","  query = df.loc[i].values[0][:-5]\n","  vulnerability = df.loc[i].values[0][-1]\n","  tempQuery = query.translate({ord(c): None for c in string.whitespace}) #removing all whitespace"],"execution_count":null,"outputs":[]},{"cell_type":"code","metadata":{"id":"JfDstn6fx99K"},"source":["class NoSQL_Feature_Extraction:\n","  def __init__(self, query):\n","    self.query = query\n","  \n","\n","  def featureExtraction(query, tempQuery):\n","    features = []\n","    features.append(containsCondition(query))\n","    features.append(isNewQuery(query))\n","    features.append(containsEmptyString(query))\n","    features.append(containsNotEqual(query))\n","    features.append(containsPayload(tempQuery))\n","    features.append(containsReturn(query))\n","    features.append(containsRegexTrue(tempQuery))\n","    features.append(evalQueryOperations(tempQuery))\n","    features.append(containsLogicalOp(query))\n","    features.append(elementQueryOperations(tempQuery))\n","    return features "],"execution_count":null,"outputs":[]}]}
=======
{
  "nbformat": 4,
  "nbformat_minor": 0,
  "metadata": {
    "colab": {
      "name": "NoSql Feature Extraction.ipynb",
      "provenance": [],
      "collapsed_sections": [],
      "toc_visible": true
    },
    "kernelspec": {
      "name": "python3",
      "display_name": "Python 3"
    },
    "language_info": {
      "name": "python"
    }
  },
  "cells": [
    {
      "cell_type": "code",
      "metadata": {
        "id": "u6mKqI8QJrJU"
      },
      "source": [
        "import pandas as pd\n",
        "import string"
      ],
      "execution_count": null,
      "outputs": []
    },
    {
      "cell_type": "code",
      "metadata": {
        "colab": {
          "base_uri": "https://localhost:8080/",
          "height": 202
        },
        "id": "-RQWdo_ZsIqM",
        "outputId": "45ac6b0c-4f6d-45db-dc2c-625a523bfb84"
      },
      "source": [
        "sheet_url='https://docs.google.com/spreadsheets/d/1SdVtOQykaROvx9n9tezpGg2BXL2zixJL/edit#gid=109307861'\n",
        "csv_export_url = sheet_url.replace('/edit#gid=', '/export?format=csv&gid=')\n",
        " \n",
        "df = pd.read_csv(csv_export_url, header=None)\n",
        "df.head()"
      ],
      "execution_count": null,
      "outputs": [
        {
          "output_type": "execute_result",
          "data": {
            "text/html": [
              "<div>\n",
              "<style scoped>\n",
              "    .dataframe tbody tr th:only-of-type {\n",
              "        vertical-align: middle;\n",
              "    }\n",
              "\n",
              "    .dataframe tbody tr th {\n",
              "        vertical-align: top;\n",
              "    }\n",
              "\n",
              "    .dataframe thead th {\n",
              "        text-align: right;\n",
              "    }\n",
              "</style>\n",
              "<table border=\"1\" class=\"dataframe\">\n",
              "  <thead>\n",
              "    <tr style=\"text-align: right;\">\n",
              "      <th></th>\n",
              "      <th>0</th>\n",
              "    </tr>\n",
              "  </thead>\n",
              "  <tbody>\n",
              "    <tr>\n",
              "      <th>0</th>\n",
              "      <td>db.mycol.find({$and:[{\"by\":\"tutorials point\"},...</td>\n",
              "    </tr>\n",
              "    <tr>\n",
              "      <th>1</th>\n",
              "      <td>db.Document.find({ \"type\": { \"$gte\": \"\" } })::::1</td>\n",
              "    </tr>\n",
              "    <tr>\n",
              "      <th>2</th>\n",
              "      <td>db.books.insert({ title: 'The Hobbit', author:...</td>\n",
              "    </tr>\n",
              "    <tr>\n",
              "      <th>3</th>\n",
              "      <td>db.books.find({ title: 'The Hobbit' })::::0</td>\n",
              "    </tr>\n",
              "    <tr>\n",
              "      <th>4</th>\n",
              "      <td>db.logins.find({ username: 'tolkien', password...</td>\n",
              "    </tr>\n",
              "  </tbody>\n",
              "</table>\n",
              "</div>"
            ],
            "text/plain": [
              "                                                   0\n",
              "0  db.mycol.find({$and:[{\"by\":\"tutorials point\"},...\n",
              "1  db.Document.find({ \"type\": { \"$gte\": \"\" } })::::1\n",
              "2  db.books.insert({ title: 'The Hobbit', author:...\n",
              "3        db.books.find({ title: 'The Hobbit' })::::0\n",
              "4  db.logins.find({ username: 'tolkien', password..."
            ]
          },
          "metadata": {
            "tags": []
          },
          "execution_count": 2
        }
      ]
    },
    {
      "cell_type": "code",
      "metadata": {
        "colab": {
          "base_uri": "https://localhost:8080/",
          "height": 202
        },
        "id": "k79hgf7nNMXr",
        "outputId": "e27f2044-8d2c-472c-97b3-861d8255fe46"
      },
      "source": [
        "sheet_url='https://docs.google.com/spreadsheets/d/1Y8k582i3d05SfLFJmaSzKLO2T18NfGp8Exm4qG2UR9g/edit#gid=1029040470'\n",
        "csv_export_url = sheet_url.replace('/edit#gid=', '/export?format=csv&gid=')\n",
        " \n",
        "df2 = pd.read_csv(csv_export_url)\n",
        "df2.head()"
      ],
      "execution_count": null,
      "outputs": [
        {
          "output_type": "execute_result",
          "data": {
            "text/html": [
              "<div>\n",
              "<style scoped>\n",
              "    .dataframe tbody tr th:only-of-type {\n",
              "        vertical-align: middle;\n",
              "    }\n",
              "\n",
              "    .dataframe tbody tr th {\n",
              "        vertical-align: top;\n",
              "    }\n",
              "\n",
              "    .dataframe thead th {\n",
              "        text-align: right;\n",
              "    }\n",
              "</style>\n",
              "<table border=\"1\" class=\"dataframe\">\n",
              "  <thead>\n",
              "    <tr style=\"text-align: right;\">\n",
              "      <th></th>\n",
              "      <th>Feature0</th>\n",
              "      <th>Feature1</th>\n",
              "      <th>Feature2</th>\n",
              "      <th>Feature3</th>\n",
              "      <th>Feature4</th>\n",
              "      <th>Feature5</th>\n",
              "      <th>Feature6</th>\n",
              "      <th>Feature7</th>\n",
              "      <th>Feature8</th>\n",
              "      <th>Feature9</th>\n",
              "      <th>ClassLabel</th>\n",
              "    </tr>\n",
              "  </thead>\n",
              "  <tbody>\n",
              "    <tr>\n",
              "      <th>0</th>\n",
              "      <td>0</td>\n",
              "      <td>0</td>\n",
              "      <td>0</td>\n",
              "      <td>1</td>\n",
              "      <td>1</td>\n",
              "      <td>0</td>\n",
              "      <td>0</td>\n",
              "      <td>0</td>\n",
              "      <td>0</td>\n",
              "      <td>0</td>\n",
              "      <td>0</td>\n",
              "    </tr>\n",
              "    <tr>\n",
              "      <th>1</th>\n",
              "      <td>1</td>\n",
              "      <td>1</td>\n",
              "      <td>0</td>\n",
              "      <td>1</td>\n",
              "      <td>0</td>\n",
              "      <td>0</td>\n",
              "      <td>0</td>\n",
              "      <td>0</td>\n",
              "      <td>0</td>\n",
              "      <td>0</td>\n",
              "      <td>1</td>\n",
              "    </tr>\n",
              "    <tr>\n",
              "      <th>2</th>\n",
              "      <td>0</td>\n",
              "      <td>0</td>\n",
              "      <td>0</td>\n",
              "      <td>0</td>\n",
              "      <td>0</td>\n",
              "      <td>0</td>\n",
              "      <td>0</td>\n",
              "      <td>0</td>\n",
              "      <td>0</td>\n",
              "      <td>0</td>\n",
              "      <td>0</td>\n",
              "    </tr>\n",
              "    <tr>\n",
              "      <th>3</th>\n",
              "      <td>0</td>\n",
              "      <td>0</td>\n",
              "      <td>0</td>\n",
              "      <td>1</td>\n",
              "      <td>0</td>\n",
              "      <td>0</td>\n",
              "      <td>0</td>\n",
              "      <td>0</td>\n",
              "      <td>0</td>\n",
              "      <td>0</td>\n",
              "      <td>0</td>\n",
              "    </tr>\n",
              "    <tr>\n",
              "      <th>4</th>\n",
              "      <td>0</td>\n",
              "      <td>0</td>\n",
              "      <td>0</td>\n",
              "      <td>1</td>\n",
              "      <td>0</td>\n",
              "      <td>0</td>\n",
              "      <td>0</td>\n",
              "      <td>0</td>\n",
              "      <td>0</td>\n",
              "      <td>0</td>\n",
              "      <td>0</td>\n",
              "    </tr>\n",
              "  </tbody>\n",
              "</table>\n",
              "</div>"
            ],
            "text/plain": [
              "   Feature0  Feature1  Feature2  ...  Feature8  Feature9  ClassLabel\n",
              "0         0         0         0  ...         0         0           0\n",
              "1         1         1         0  ...         0         0           1\n",
              "2         0         0         0  ...         0         0           0\n",
              "3         0         0         0  ...         0         0           0\n",
              "4         0         0         0  ...         0         0           0\n",
              "\n",
              "[5 rows x 11 columns]"
            ]
          },
          "metadata": {
            "tags": []
          },
          "execution_count": 3
        }
      ]
    },
    {
      "cell_type": "code",
      "metadata": {
        "colab": {
          "base_uri": "https://localhost:8080/",
          "height": 202
        },
        "id": "LaCix53uCgbY",
        "outputId": "975e70b1-f965-47e5-ad8a-0acb5211ddf3"
      },
      "source": [
        "sheet_url='https://docs.google.com/spreadsheets/d/1il54YsQNfGxLOeMvG94PyymbKZ-JeddP/edit#gid=1921110563'\n",
        "csv_export_url = sheet_url.replace('/edit#gid=', '/export?format=csv&gid=')\n",
        " \n",
        "pl = pd.read_csv(csv_export_url)\n",
        "pl.head()"
      ],
      "execution_count": null,
      "outputs": [
        {
          "output_type": "execute_result",
          "data": {
            "text/html": [
              "<div>\n",
              "<style scoped>\n",
              "    .dataframe tbody tr th:only-of-type {\n",
              "        vertical-align: middle;\n",
              "    }\n",
              "\n",
              "    .dataframe tbody tr th {\n",
              "        vertical-align: top;\n",
              "    }\n",
              "\n",
              "    .dataframe thead th {\n",
              "        text-align: right;\n",
              "    }\n",
              "</style>\n",
              "<table border=\"1\" class=\"dataframe\">\n",
              "  <thead>\n",
              "    <tr style=\"text-align: right;\">\n",
              "      <th></th>\n",
              "      <th>true, $where: '1 == 1'</th>\n",
              "      <th>Unnamed: 1</th>\n",
              "      <th>hjhj</th>\n",
              "    </tr>\n",
              "  </thead>\n",
              "  <tbody>\n",
              "    <tr>\n",
              "      <th>0</th>\n",
              "      <td>, $where: '1 == 1'</td>\n",
              "      <td>NaN</td>\n",
              "      <td>NaN</td>\n",
              "    </tr>\n",
              "    <tr>\n",
              "      <th>1</th>\n",
              "      <td>$where: '1 == 1'</td>\n",
              "      <td>NaN</td>\n",
              "      <td>NaN</td>\n",
              "    </tr>\n",
              "    <tr>\n",
              "      <th>2</th>\n",
              "      <td>, $where: '1 == 1'</td>\n",
              "      <td>NaN</td>\n",
              "      <td>NaN</td>\n",
              "    </tr>\n",
              "    <tr>\n",
              "      <th>3</th>\n",
              "      <td>1, $where: '1 == 1'</td>\n",
              "      <td>NaN</td>\n",
              "      <td>NaN</td>\n",
              "    </tr>\n",
              "    <tr>\n",
              "      <th>4</th>\n",
              "      <td>{ $ne: 1 }</td>\n",
              "      <td>NaN</td>\n",
              "      <td>NaN</td>\n",
              "    </tr>\n",
              "  </tbody>\n",
              "</table>\n",
              "</div>"
            ],
            "text/plain": [
              "  true, $where: '1 == 1'  Unnamed: 1  hjhj\n",
              "0     , $where: '1 == 1'         NaN   NaN\n",
              "1       $where: '1 == 1'         NaN   NaN\n",
              "2     , $where: '1 == 1'         NaN   NaN\n",
              "3    1, $where: '1 == 1'         NaN   NaN\n",
              "4             { $ne: 1 }         NaN   NaN"
            ]
          },
          "metadata": {
            "tags": []
          },
          "execution_count": 4
        }
      ]
    },
    {
      "cell_type": "code",
      "metadata": {
        "id": "NfmVHhHlDhyZ"
      },
      "source": [
        ""
      ],
      "execution_count": null,
      "outputs": []
    },
    {
      "cell_type": "markdown",
      "metadata": {
        "id": "sX51CwETWc5J"
      },
      "source": [
        "**Feature Extraction**\n",
        "\n"
      ]
    },
    {
      "cell_type": "code",
      "metadata": {
        "id": "TEby0migDFMS"
      },
      "source": [
        "# Feature 1\n",
        "# Detect if query has $ne\n",
        "\n",
        "def containsCondition(query):\n",
        "  condition = [\"find(\", \"$selector\", \"find.sort(\"]\n",
        "  condition2 = [\"$eq\", \"$gt\", \"$gte\" , \"$ne\", \"$lt\", \"$lte\", \"$in\", \"$nin\"]\n",
        "  for i in condition:\n",
        "    if i in query:\n",
        "      return 1\n",
        "  for i in condition2:\n",
        "    if i in query:\n",
        "      return 0\n",
        "  return 0    "
      ],
      "execution_count": null,
      "outputs": []
    },
    {
      "cell_type": "code",
      "metadata": {
        "id": "Z9g-B3gzJ8qq"
      },
      "source": [
        "# Feature 2\n",
        "# Detects piggy back query\n",
        "\n",
        "def isNewQuery(query):\n",
        "  if \";db.(\" in query:\n",
        "    return 1\n",
        "  else:\n",
        "    return 0"
      ],
      "execution_count": null,
      "outputs": []
    },
    {
      "cell_type": "code",
      "metadata": {
        "id": "ahOdJTpkGTEK"
      },
      "source": [
        "# Feature 3\n",
        "# Detect if query contains empty string\n",
        "\n",
        "def containsEmptyString(query):\n",
        "  if \"\\\"\\\"\" in query or \"''\" in query:\n",
        "    return 1\n",
        "  else:\n",
        "    return 0"
      ],
      "execution_count": null,
      "outputs": []
    },
    {
      "cell_type": "code",
      "metadata": {
        "id": "wJ54QBlAQca9"
      },
      "source": [
        "# Feature 4\n",
        "# Detect if query has $ne\n",
        "\n",
        "def containsNotEqual(query):\n",
        "  if \"$ne\" in query:\n",
        "    return 1\n",
        "  else:\n",
        "    return 0"
      ],
      "execution_count": null,
      "outputs": []
    },
    {
      "cell_type": "code",
      "metadata": {
        "id": "VXUYmgyvMJWv"
      },
      "source": [
        "# Feature 5\n",
        "# Detect if query contains payload\n",
        "\n",
        "def containsPayload(tempQuery):\n",
        "  try:\n",
        "    for i in range(32):\n",
        "      temp = df.loc[i].values[0]\n",
        "      temp = temp.translate({ord(c): None for c in string.whitespace})\n",
        "      if temp in tempQuery:\n",
        "        return 1 \n",
        "  except:\n",
        "    print(\"Error\")\n",
        "  return 0  "
      ],
      "execution_count": null,
      "outputs": []
    },
    {
      "cell_type": "code",
      "metadata": {
        "id": "-jh4J8_bJHS_"
      },
      "source": [
        "# Feature 6\n",
        "# Detect if query contains return\n",
        "\n",
        "def containsReturn(query):\n",
        "  returnlist = [\";return\", \"return 1\", \"return true\" , \"return(true)\"]\n",
        "  for i in returnlist:\n",
        "    if i in query:\n",
        "      return 1\n",
        "  return 0"
      ],
      "execution_count": null,
      "outputs": []
    },
    {
      "cell_type": "code",
      "metadata": {
        "id": "08KI5R3hKmEr"
      },
      "source": [
        "# Feature 7\n",
        "# Detect if query is always true\n",
        "\n",
        "def containsRegexTrue(tempQuery):\n",
        "  if \"/.*/\" in tempQuery or \"/./\" in tempQuery or \"/.\" in tempQuery:\n",
        "    return 1\n",
        "  return 0"
      ],
      "execution_count": null,
      "outputs": []
    },
    {
      "cell_type": "code",
      "metadata": {
        "id": "n4rO1QmbIDSr"
      },
      "source": [
        "# Feature 8\n",
        "# Detect if query contains evaluation operators\n",
        "\n",
        "def evalQueryOperations(tempQuery):\n",
        "  evalop = [\"$mod\", \"$regex\", \"$text\" , \"$where\"]\n",
        "  for i in evalop:\n",
        "    if i in tempQuery:\n",
        "      return 1\n",
        "  return 0"
      ],
      "execution_count": null,
      "outputs": []
    },
    {
      "cell_type": "code",
      "metadata": {
        "id": "498H03fEHGWE"
      },
      "source": [
        "# Feature 9\n",
        "# Detect if query contains logical operators\n",
        "\n",
        "def containsLogicalOp(query):\n",
        "  logop = [\"$or\", \"$and\", \"$not\" , \"$nor\"]\n",
        "  for i in logop:\n",
        "    if i in query:\n",
        "      return 1\n",
        "  return 0"
      ],
      "execution_count": null,
      "outputs": []
    },
    {
      "cell_type": "code",
      "metadata": {
        "id": "ZA7VvO8tLfXi"
      },
      "source": [
        "# Feature 10\n",
        "# Detect if query contains element operation\n",
        "\n",
        "def elementQueryOperations(tempQuery):\n",
        "  if \"$exists\" in tempQuery or \"$type\" in tempQuery:\n",
        "    return 1\n",
        "  return 0"
      ],
      "execution_count": null,
      "outputs": []
    },
    {
      "cell_type": "code",
      "metadata": {
        "id": "1y0-ieamaS9T"
      },
      "source": [
        "# Detect if query alters the table\n",
        "\n",
        "def doesCreateTable(query):\n",
        "  if \"createTable()\" in query:\n",
        "    return 1\n",
        "  else:\n",
        "    return 0\n",
        "\n",
        "def doesShowTable(query):\n",
        "  if \"showTable()\" in query:\n",
        "    return 1\n",
        "  else:\n",
        "    return 0\n",
        "\n",
        "def doesAlterCollection(query):\n",
        "  if \"drop(\" in query:\n",
        "    return 1\n",
        "  else:\n",
        "    return 0 \n",
        "\n",
        "def doesDropDatabase(query):\n",
        "  if \"dropDatabase(\" in query:\n",
        "    return 1\n",
        "  else:\n",
        "    return 0        "
      ],
      "execution_count": null,
      "outputs": []
    },
    {
      "cell_type": "code",
      "metadata": {
        "id": "yOGk8qXZnPsP"
      },
      "source": [
        "# Detect if query has operations\n",
        "\n",
        "def containsReturn(query):\n",
        "  if \";return\" in query or \"return 1\" in query or \"return true\" in query or \"return(true)\" in query:\n",
        "    return 1\n",
        "  else:\n",
        "    return 0\n",
        "\n",
        "def isUpdateQuery(query):\n",
        "  if \"update(\" in query or \"save(\" in query:\n",
        "    return 1\n",
        "  else:\n",
        "    return 0\n",
        "\n",
        "def isRemoveQuery(query):\n",
        "  if \"remove(\" in query:\n",
        "    return 1\n",
        "  else:\n",
        "    return 0     \n",
        "\n",
        "def containsLimit(query):\n",
        "  if \"limit\" in query:\n",
        "    return 1\n",
        "  else:\n",
        "    return 0         "
      ],
      "execution_count": null,
      "outputs": []
    },
    {
      "cell_type": "code",
      "metadata": {
        "id": "1LjVssawof7M"
      },
      "source": [
        "# Detect if query contains empty content\n",
        "\n",
        "def containsEmptyArray(query):\n",
        "  if \"{}\" in query or \"[]\" in query:\n",
        "    return 1\n",
        "  else:\n",
        "    return 0\n",
        "\n",
        "def isNullComparison(query):\n",
        "  if \"null\" in query:\n",
        "    return 1\n",
        "  else:\n",
        "    return 0"
      ],
      "execution_count": null,
      "outputs": []
    },
    {
      "cell_type": "code",
      "metadata": {
        "id": "WWTAH4uHW7Xc"
      },
      "source": [
        "# Detect query's end\n",
        "\n",
        "def containsEndQuery(tempQuery):\n",
        "  if \";}//\" in tempQuery:\n",
        "    return 1\n",
        "  else:\n",
        "    return 0"
      ],
      "execution_count": null,
      "outputs": []
    },
    {
      "cell_type": "code",
      "metadata": {
        "id": "yYbxTZ5Km9Ha"
      },
      "source": [
        "# Detect if query has infinite loop\n",
        "\n",
        "def isWhileTrue(query):\n",
        "  if \"while(true)\" in query:\n",
        "    return 1\n",
        "  else:\n",
        "    return 0"
      ],
      "execution_count": null,
      "outputs": []
    },
    {
      "cell_type": "code",
      "metadata": {
        "id": "6CgrZ81vN8rW"
      },
      "source": [
        "def containsExtremes(query):\n",
        "  if \"zzz\" in tempQuery or \"~\" in tempQuery:\n",
        "    return 1\n",
        "  return  0;"
      ],
      "execution_count": null,
      "outputs": []
    },
    {
      "cell_type": "markdown",
      "metadata": {
        "id": "tqT59yA9QvO2"
      },
      "source": [
        "# New Section"
      ]
    },
    {
      "cell_type": "code",
      "metadata": {
        "colab": {
          "base_uri": "https://localhost:8080/"
        },
        "id": "UrJhtVmgFEyt",
        "outputId": "74819bb1-b28d-4007-9af7-4356f4bc124e"
      },
      "source": [
        "for i in range(1):\n",
        "  query = df.loc[i].values[0][:-5]\n",
        "  query = 'db.products.update( { sku: \"unknown\" }, { $unset: { quantity: \"\", instock: \"\" } }'\n",
        "  vulnerability = df.loc[i].values[0][-1]\n",
        "  tempQuery = query.translate({ord(c): None for c in string.whitespace}) #removing all whitespace\n",
        "  features = []\n",
        "  features.append(containsCondition(query))\n",
        "  features.append(isNewQuery(query))\n",
        "  features.append(containsEmptyString(query))\n",
        "  features.append(containsNotEqual(query))\n",
        "  features.append(containsPayload(tempQuery))\n",
        "  features.append(containsReturn(query))\n",
        "  features.append(containsRegexTrue(tempQuery))\n",
        "  features.append(evalQueryOperations(tempQuery))\n",
        "  features.append(containsLogicalOp(query))\n",
        "  features.append(elementQueryOperations(tempQuery))\n",
        "  print(features)"
      ],
      "execution_count": null,
      "outputs": [
        {
          "output_type": "stream",
          "text": [
            "[0, 0, 1, 0, 0, 0, 0, 0, 0, 0]\n"
          ],
          "name": "stdout"
        }
      ]
    },
    {
      "cell_type": "code",
      "metadata": {
        "id": "JfDstn6fx99K"
      },
      "source": [
        "class NoSQL_Feature_Extraction:\n",
        "  def __init__(self, query):\n",
        "    self.query = query\n",
        "  \n",
        "  def featureExtraction(query):\n",
        "    import pandas as pd\n",
        "    import string\n",
        "\n",
        "    sheet_url='https://docs.google.com/spreadsheets/d/1il54YsQNfGxLOeMvG94PyymbKZ-JeddP/edit#gid=1921110563'\n",
        "    csv_export_url = sheet_url.replace('/edit#gid=', '/export?format=csv&gid=')\n",
        "    pl = pd.read_csv(csv_export_url)\n",
        "\n",
        "    tempQuery = query.translate({ord(c): None for c in string.whitespace}) #removing all whitespace\n",
        "    # Feature 1\n",
        "    # Detect if query has $ne\n",
        "\n",
        "    def containsCondition(query):\n",
        "      condition = [\"find(\", \"$selector\", \"find.sort(\"]\n",
        "      condition2 = [\"$eq\", \"$gt\", \"$gte\" , \"$ne\", \"$lt\", \"$lte\", \"$in\", \"$nin\"]\n",
        "      for i in condition:\n",
        "        if i in query:\n",
        "          return 1\n",
        "      for i in condition2:\n",
        "        if i in query:\n",
        "          return 0\n",
        "      return 0  \n",
        "\n",
        "    # Feature 2\n",
        "    # Detects piggy back query\n",
        "\n",
        "    def isNewQuery(query):\n",
        "      if \";db.(\" in query:\n",
        "        return 1\n",
        "      else:\n",
        "        return 0\n",
        "\n",
        "    # Feature 3\n",
        "    # Detect if query contains empty string\n",
        "\n",
        "    def containsEmptyString(query):\n",
        "      if \"\\\"\\\"\" in query or \"''\" in query:\n",
        "        return 1\n",
        "      else:\n",
        "        return 0  \n",
        "\n",
        "    # Feature 4\n",
        "    # Detect if query has $ne\n",
        "\n",
        "    def containsNotEqual(query):\n",
        "      if \"$ne\" in query:\n",
        "        return 1\n",
        "      else:\n",
        "        return 0\n",
        "\n",
        "    # Feature 5\n",
        "    # Detect if query contains payload\n",
        "\n",
        "    def containsPayload(tempQuery):\n",
        "      try:\n",
        "        for i in range(32):\n",
        "          temp = df.loc[i].values[0]\n",
        "          temp = temp.translate({ord(c): None for c in string.whitespace})\n",
        "          if temp in tempQuery:\n",
        "            return 1 \n",
        "      except:\n",
        "        print(\"Error\")\n",
        "      return 0   \n",
        "\n",
        "    # Feature 6\n",
        "    # Detect if query contains return\n",
        "\n",
        "    def containsReturn(query):\n",
        "      returnlist = [\";return\", \"return 1\", \"return true\" , \"return(true)\"]\n",
        "      for i in returnlist:\n",
        "        if i in query:\n",
        "          return 1\n",
        "      return 0       \n",
        "\n",
        "    # Feature 7\n",
        "    # Detect if query is always true\n",
        "\n",
        "    def containsRegexTrue(tempQuery):\n",
        "      if \"/.*/\" in tempQuery or \"/./\" in tempQuery or \"/.\" in tempQuery:\n",
        "        return 1\n",
        "      return 0\n",
        "\n",
        "\n",
        "    # Feature 8\n",
        "    # Detect if query contains evaluation operators\n",
        "\n",
        "    def evalQueryOperations(tempQuery):\n",
        "      evalop = [\"$mod\", \"$regex\", \"$text\" , \"$where\"]\n",
        "      for i in evalop:\n",
        "        if i in tempQuery:\n",
        "          return 1\n",
        "      return 0  \n",
        "\n",
        "    # Feature 9\n",
        "    # Detect if query contains logical operators\n",
        "\n",
        "    def containsLogicalOp(query):\n",
        "      logop = [\"$or\", \"$and\", \"$not\" , \"$nor\"]\n",
        "      for i in logop:\n",
        "        if i in query:\n",
        "          return 1\n",
        "      return 0\n",
        "\n",
        "\n",
        "    # Feature 10\n",
        "    # Detect if query contains element operation\n",
        "\n",
        "    def elementQueryOperations(tempQuery):\n",
        "      if \"$exists\" in tempQuery or \"$type\" in tempQuery:\n",
        "        return 1\n",
        "      return 0\n",
        "\n",
        "  \n",
        "    features = []\n",
        "    features.append(containsCondition(query))\n",
        "    features.append(isNewQuery(query))\n",
        "    features.append(containsEmptyString(query))\n",
        "    features.append(containsNotEqual(query))\n",
        "    features.append(containsPayload(tempQuery))\n",
        "    features.append(containsReturn(query))\n",
        "    features.append(containsRegexTrue(tempQuery))\n",
        "    features.append(evalQueryOperations(tempQuery))\n",
        "    features.append(containsLogicalOp(query))\n",
        "    features.append(elementQueryOperations(tempQuery))\n",
        "    return features "
      ],
      "execution_count": 8,
      "outputs": []
    },
    {
      "cell_type": "code",
      "metadata": {
        "colab": {
          "base_uri": "https://localhost:8080/"
        },
        "id": "y7ZQ8Lncwc7a",
        "outputId": "4d249722-eb42-4148-fa17-a3a8a04ee29c"
      },
      "source": [
        "tmp = NoSQL_Feature_Extraction\n",
        "print(tmp.featureExtraction('db.products.update( { sku: \"unknown\" }, { $unset: { quantity: \"\", instock: \"\" } }'))"
      ],
      "execution_count": 9,
      "outputs": [
        {
          "output_type": "stream",
          "text": [
            "Error\n",
            "[0, 0, 1, 0, 0, 0, 0, 0, 0, 0]\n"
          ],
          "name": "stdout"
        }
      ]
    }
  ]
}
>>>>>>> efb6793dd653dd49f00c282c8866ecb3f86b86f6:Thesis/NoSql_Feature_Extraction (2).ipynb
